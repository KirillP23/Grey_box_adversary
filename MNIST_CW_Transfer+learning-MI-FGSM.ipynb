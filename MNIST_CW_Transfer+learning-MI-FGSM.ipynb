{
 "cells": [
  {
   "cell_type": "markdown",
   "metadata": {},
   "source": [
    "# Implementing MomentumIterativeMethod attack and transforming Grey box into a White box\n",
    "Instead of Carlini-Wagner L2 attack, we implement NIPS-winning Momentum Iterative Method attack.\n",
    "\n",
    "We also show transformation from the Grey box setup into a White box setup (at the end of the notebook)."
   ]
  },
  {
   "cell_type": "code",
   "execution_count": 1,
   "metadata": {
    "ExecuteTime": {
     "end_time": "2018-03-29T01:19:00.378286Z",
     "start_time": "2018-03-29T01:19:00.362425Z"
    }
   },
   "outputs": [
    {
     "data": {
      "text/html": [
       "<style>.container { width:100% !important; }</style>"
      ],
      "text/plain": [
       "<IPython.core.display.HTML object>"
      ]
     },
     "metadata": {},
     "output_type": "display_data"
    }
   ],
   "source": [
    "#I like my cells wide and proud\n",
    "from IPython.core.display import display, HTML\n",
    "display(HTML(\"<style>.container { width:100% !important; }</style>\"))"
   ]
  },
  {
   "cell_type": "code",
   "execution_count": 2,
   "metadata": {
    "ExecuteTime": {
     "end_time": "2018-03-29T01:19:04.009941Z",
     "start_time": "2018-03-29T01:19:02.161076Z"
    }
   },
   "outputs": [
    {
     "data": {
      "text/plain": [
       "[name: \"/device:CPU:0\"\n",
       " device_type: \"CPU\"\n",
       " memory_limit: 268435456\n",
       " locality {\n",
       " }\n",
       " incarnation: 17988940530368625049]"
      ]
     },
     "execution_count": 2,
     "metadata": {},
     "output_type": "execute_result"
    }
   ],
   "source": [
    "from tensorflow.python.client import device_lib\n",
    "device_lib.list_local_devices()"
   ]
  },
  {
   "cell_type": "code",
   "execution_count": 3,
   "metadata": {
    "ExecuteTime": {
     "end_time": "2018-03-29T01:19:05.503402Z",
     "start_time": "2018-03-29T01:19:05.157281Z"
    }
   },
   "outputs": [
    {
     "name": "stderr",
     "output_type": "stream",
     "text": [
      "Using TensorFlow backend.\n"
     ]
    }
   ],
   "source": [
    "import numpy as np\n",
    "import matplotlib.pyplot as plt\n",
    "%matplotlib inline\n",
    "from six.moves import xrange\n",
    "import logging\n",
    "import os\n",
    "import tensorflow as tf\n",
    "import cleverhans\n",
    "###########################\n",
    "from cleverhans.attacks import Attack\n",
    "from cleverhans.utils import AccuracyReport\n",
    "from cleverhans.utils import set_log_level\n",
    "from cleverhans.utils_mnist import data_mnist\n",
    "from cleverhans.utils_tf import model_eval, tf_model_load\n",
    "from cleverhans.model import Model, CallableModelWrapper\n",
    "########### keras ############\n",
    "from cleverhans.utils_keras import cnn_model as cnn_keras\n",
    "from cleverhans.utils_keras import KerasModelWrapper"
   ]
  },
  {
   "cell_type": "code",
   "execution_count": 4,
   "metadata": {
    "ExecuteTime": {
     "end_time": "2018-03-29T01:19:06.587914Z",
     "start_time": "2018-03-29T01:19:06.578748Z"
    },
    "scrolled": true
   },
   "outputs": [
    {
     "name": "stdout",
     "output_type": "stream",
     "text": [
      "1.6.0\n",
      "2.0.0-5841f1ec3d80d0f4bbfc47c042d9cc58\n"
     ]
    }
   ],
   "source": [
    "print(tf.__version__)\n",
    "print(cleverhans.__version__)"
   ]
  },
  {
   "cell_type": "markdown",
   "metadata": {},
   "source": [
    "# Initialize the parameters as per:\n",
    "https://github.com/tensorflow/cleverhans/blob/b8d15f3d7b6f820f812087512b60d9675cb431eb/cleverhans_tutorials/mnist_tutorial_cw.py"
   ]
  },
  {
   "cell_type": "code",
   "execution_count": 5,
   "metadata": {
    "ExecuteTime": {
     "end_time": "2018-03-29T01:19:08.175230Z",
     "start_time": "2018-03-29T01:19:08.155653Z"
    },
    "collapsed": true
   },
   "outputs": [],
   "source": [
    "#     :param train_start: index of first training set example\n",
    "#     :param train_end: index of last training set example\n",
    "#     :param test_start: index of first test set example\n",
    "#     :param test_end: index of last test set example\n",
    "#     :param viz_enabled: (boolean) activate plots of adversarial examples\n",
    "#     :param nb_epochs: number of epochs to train model\n",
    "#     :param batch_size: size of training batches\n",
    "#     :param nb_classes: number of output classes\n",
    "#     :param source_samples: number of test inputs to attack\n",
    "#     :param learning_rate: learning rate for training\n",
    "#     :param model_path: path to the model file\n",
    "#     :param targeted: should we run a targeted attack? or untargeted?\n",
    "train_start=0\n",
    "train_end=60000\n",
    "test_start=0\n",
    "test_end=10000\n",
    "viz_enabled=True\n",
    "nb_epochs=6\n",
    "batch_size=128\n",
    "nb_classes=10\n",
    "source_samples=10\n",
    "learning_rate=0.001\n",
    "attack_iterations=100\n",
    "#(Vishal) Trained model in link to obtain pretrained model\n",
    "model_path=os.path.join(\"keras_models\", \"mnist\")\n",
    "targeted=True\n",
    "# Object used to keep track of (and return) key accuracies\n",
    "report = AccuracyReport()"
   ]
  },
  {
   "cell_type": "markdown",
   "metadata": {},
   "source": [
    "# Model definition:"
   ]
  },
  {
   "cell_type": "code",
   "execution_count": 6,
   "metadata": {
    "ExecuteTime": {
     "end_time": "2018-03-29T01:19:12.373771Z",
     "start_time": "2018-03-29T01:19:10.464836Z"
    }
   },
   "outputs": [
    {
     "name": "stdout",
     "output_type": "stream",
     "text": [
      "Created TensorFlow session.\n",
      "Extracting /tmp/train-images-idx3-ubyte.gz\n",
      "Extracting /tmp/train-labels-idx1-ubyte.gz\n",
      "Extracting /tmp/t10k-images-idx3-ubyte.gz\n",
      "Extracting /tmp/t10k-labels-idx1-ubyte.gz\n",
      "X_train shape: (60000, 28, 28, 1)\n",
      "X_test shape: (10000, 28, 28, 1)\n"
     ]
    }
   ],
   "source": [
    "# MNIST-specific dimensions\n",
    "img_rows = 28\n",
    "img_cols = 28\n",
    "channels = 1\n",
    "\n",
    "# Set TF random seed to improve reproducibility\n",
    "tf.set_random_seed(1234)\n",
    "\n",
    "# # Create TF session\n",
    "# tf.device(\"/gpu:0\")\n",
    "config = tf.ConfigProto(log_device_placement=True)\n",
    "config.gpu_options.allow_growth = True\n",
    "#(Vishal) Commented out since running on local machine without gpus\n",
    "#sess = tf.Session(config=tf.ConfigProto(gpu_options=tf.GPUOptions(per_process_gpu_memory_fraction=.666), device_count={'CPU':2, 'GPU':0}))\n",
    "\n",
    "sess=tf.Session()\n",
    "print(\"Created TensorFlow session.\")\n",
    "import keras\n",
    "from keras import backend as K\n",
    "K.set_session(sess)\n",
    "set_log_level(logging.DEBUG)\n",
    "\n",
    "# Get MNIST test data\n",
    "X_test, Y_test, X_test, Y_test = data_mnist(train_start=train_start,\n",
    "                                              train_end=train_end,\n",
    "                                              test_start=test_start,\n",
    "                                              test_end=test_end)\n",
    "\n",
    "\n",
    "# Define input TF placeholder\n",
    "x = tf.placeholder(tf.float32, shape=(None, img_rows, img_cols, channels))\n",
    "y = tf.placeholder(tf.float32, shape=(None, nb_classes))\n",
    "\n",
    "model=cnn_keras()\n",
    "preds = model(x)"
   ]
  },
  {
   "cell_type": "code",
   "execution_count": 7,
   "metadata": {
    "ExecuteTime": {
     "end_time": "2018-03-29T01:19:14.416369Z",
     "start_time": "2018-03-29T01:19:14.370646Z"
    },
    "scrolled": false
   },
   "outputs": [
    {
     "name": "stdout",
     "output_type": "stream",
     "text": [
      "keras_models/mnist\n",
      "True\n",
      "Loading the pre-trained Keras model\n",
      "INFO:tensorflow:Restoring parameters from keras_models/mnist\n"
     ]
    }
   ],
   "source": [
    "print(model_path)\n",
    "print(os.path.exists(model_path + \".meta\"))\n",
    "\n",
    "rng = np.random.RandomState([2017, 11, 3])\n",
    "# check if we've trained before, and if we have, use that pre-trained model\n",
    "if os.path.exists(model_path + \".meta\"):\n",
    "    print('Loading the pre-trained Keras model')\n",
    "    tf_model_load(sess, model_path)\n"
   ]
  },
  {
   "cell_type": "code",
   "execution_count": 8,
   "metadata": {
    "ExecuteTime": {
     "end_time": "2018-03-29T01:19:19.174096Z",
     "start_time": "2018-03-29T01:19:15.738458Z"
    },
    "scrolled": false
   },
   "outputs": [
    {
     "name": "stdout",
     "output_type": "stream",
     "text": [
      "Test accuracy on legitimate test examples: 0.9878\n"
     ]
    }
   ],
   "source": [
    "# Evaluate the accuracy of the MNIST model on legitimate test examples\n",
    "\n",
    "eval_params = {'batch_size': 128}\n",
    "accuracy = model_eval(sess, x, y, preds, X_test, Y_test, args=eval_params)\n",
    "print('Test accuracy on legitimate test examples: {0}'.format(accuracy))\n",
    "report.clean_test_clean_eval = accuracy"
   ]
  },
  {
   "cell_type": "markdown",
   "metadata": {},
   "source": [
    "# Let's pick 10 legit examples to target:"
   ]
  },
  {
   "cell_type": "code",
   "execution_count": 9,
   "metadata": {
    "ExecuteTime": {
     "end_time": "2018-03-29T01:19:20.611825Z",
     "start_time": "2018-03-29T01:19:20.131737Z"
    }
   },
   "outputs": [
    {
     "name": "stdout",
     "output_type": "stream",
     "text": [
      "Crafting 10 * 9 adversarial examples\n"
     ]
    },
    {
     "data": {
      "image/png": "[encoded data removed]",
      "text/plain": [
       "<Figure size 432x288 with 10 Axes>"
      ]
     },
     "metadata": {},
     "output_type": "display_data"
    }
   ],
   "source": [
    "nb_adv_per_sample = str(nb_classes - 1)\n",
    "print('Crafting ' + str(source_samples) + ' * ' + nb_adv_per_sample + ' adversarial examples')\n",
    "###########################################################################\n",
    "\n",
    "assert source_samples == nb_classes\n",
    "idxs = [np.where(np.argmax(Y_test, axis=1) == i)[0][0] for i in range(nb_classes)]\n",
    "# [3, 2, 1, 18, 4, 8, 11, 0, 61, 7]\n",
    "# Pick the first appearances of the 9 numbers in X_test\n",
    "for i,idx in enumerate(idxs):\n",
    "    plt.subplot(2,5,i+1)\n",
    "    plt.imshow(X_test[idx,:,:,0],cmap='gray')\n",
    "    plt.axis('off')\n"
   ]
  },
  {
   "cell_type": "markdown",
   "metadata": {},
   "source": [
    "# Create adv samples using the MI-FGSM attack:\n",
    "https://arxiv.org/pdf/1710.06081.pdf"
   ]
  },
  {
   "cell_type": "code",
   "execution_count": 10,
   "metadata": {
    "ExecuteTime": {
     "end_time": "2018-03-29T01:19:34.645033Z",
     "start_time": "2018-03-29T01:19:34.210925Z"
    },
    "code_folding": [
     2
    ],
    "collapsed": true
   },
   "outputs": [],
   "source": [
    "#(Kirill) Copied from cleverhans, with minor changes due to deprecated TensorFlow methods\n",
    "\n",
    "class MomentumIterativeMethod(Attack):\n",
    "\n",
    "    \"\"\"\n",
    "    The Momentum Iterative Method (Dong et al. 2017). This method won\n",
    "    the first places in NIPS 2017 Non-targeted Adversarial Attacks and\n",
    "    Targeted Adversarial Attacks. The original paper used hard labels\n",
    "    for this attack; no label smoothing.\n",
    "    Paper link: https://arxiv.org/pdf/1710.06081.pdf\n",
    "    \"\"\"\n",
    "\n",
    "    def __init__(self, model, back='tf', sess=None):\n",
    "        \"\"\"\n",
    "        Create a MomentumIterativeMethod instance.\n",
    "        Note: the model parameter should be an instance of the\n",
    "        cleverhans.model.Model abstraction provided by CleverHans.\n",
    "        \"\"\"\n",
    "        if not isinstance(model, Model):\n",
    "            model = CallableModelWrapper(model, 'probs')\n",
    "\n",
    "        super(MomentumIterativeMethod, self).__init__(model, back, sess)\n",
    "        self.feedable_kwargs = {'eps': np.float32,\n",
    "                                'eps_iter': np.float32,\n",
    "                                'y': np.float32,\n",
    "                                'y_target': np.float32,\n",
    "                                'clip_min': np.float32,\n",
    "                                'clip_max': np.float32}\n",
    "        self.structural_kwargs = ['ord', 'nb_iter', 'decay_factor']\n",
    "\n",
    "    def generate(self, x, **kwargs):\n",
    "        \"\"\"\n",
    "        Generate symbolic graph for adversarial examples and return.\n",
    "        :param x: The model's symbolic inputs.\n",
    "        :param eps: (required float) maximum distortion of adversarial example\n",
    "                    compared to original input\n",
    "        :param eps_iter: (required float) step size for each attack iteration\n",
    "        :param nb_iter: (required int) Number of attack iterations.\n",
    "        :param y: (optional) A tensor with the model labels.\n",
    "        :param y_target: (optional) A tensor with the labels to target. Leave\n",
    "                         y_target=None if y is also set. Labels should be\n",
    "                         one-hot-encoded.\n",
    "        :param ord: (optional) Order of the norm (mimics Numpy).\n",
    "                    Possible values: np.inf, 1 or 2.\n",
    "        :param decay_factor: (optional) Decay factor for the momentum term.\n",
    "        :param clip_min: (optional float) Minimum input component value\n",
    "        :param clip_max: (optional float) Maximum input component value\n",
    "        \"\"\"\n",
    "        import tensorflow as tf\n",
    "\n",
    "        # Parse and save attack-specific parameters\n",
    "        assert self.parse_params(**kwargs)\n",
    "\n",
    "        # Initialize loop variables\n",
    "        momentum = 0\n",
    "        adv_x = x\n",
    "\n",
    "        # Fix labels to the first model predictions for loss computation\n",
    "        y, nb_classes = self.get_or_guess_labels(x, kwargs)\n",
    "        y = y / tf.reduce_sum(y, 1, keepdims=True)\n",
    "        targeted = (self.y_target is not None)\n",
    "\n",
    "        from cleverhans import utils_tf\n",
    "        for i in range(self.nb_iter):\n",
    "            # Compute loss\n",
    "            preds = self.model.get_probs(adv_x)\n",
    "            loss = utils_tf.model_loss(y, preds, mean=False)\n",
    "            if targeted:\n",
    "                loss = -loss\n",
    "\n",
    "            # Define gradient of loss wrt input\n",
    "            grad, = tf.gradients(loss, adv_x)\n",
    "\n",
    "            # Normalize current gradient and add it to the accumulated gradient\n",
    "            red_ind = list(xrange(1, len(grad.get_shape())))\n",
    "            avoid_zero_div = tf.cast(1e-12, grad.dtype)\n",
    "            grad = grad / tf.maximum(avoid_zero_div,\n",
    "                                     tf.reduce_mean(tf.abs(grad),\n",
    "                                                    red_ind,\n",
    "                                                    keepdims=True))\n",
    "            momentum = self.decay_factor * momentum + grad\n",
    "\n",
    "            if self.ord == np.inf:\n",
    "                normalized_grad = tf.sign(momentum)\n",
    "            elif self.ord == 1:\n",
    "                norm = tf.maximum(avoid_zero_div,\n",
    "                                  tf.reduce_sum(tf.abs(momentum),\n",
    "                                                red_ind,\n",
    "                                                keepdims=True))\n",
    "                normalized_grad = momentum / norm\n",
    "            elif self.ord == 2:\n",
    "                square = tf.reduce_sum(tf.square(momentum),\n",
    "                                       red_ind,\n",
    "                                       keepdims=True)\n",
    "                norm = tf.sqrt(tf.maximum(avoid_zero_div, square))\n",
    "                normalized_grad = momentum / norm\n",
    "            else:\n",
    "                raise NotImplementedError(\"Only L-inf, L1 and L2 norms are \"\n",
    "                                          \"currently implemented.\")\n",
    "\n",
    "            # Update and clip adversarial example in current iteration\n",
    "            scaled_grad = self.eps_iter * normalized_grad\n",
    "            adv_x = adv_x + scaled_grad\n",
    "            adv_x = x + utils_tf.clip_eta(adv_x - x, self.ord, self.eps)\n",
    "\n",
    "            if self.clip_min is not None and self.clip_max is not None:\n",
    "                adv_x = tf.clip_by_value(adv_x, self.clip_min, self.clip_max)\n",
    "\n",
    "            adv_x = tf.stop_gradient(adv_x)\n",
    "\n",
    "        return adv_x\n",
    "\n",
    "    def parse_params(self, eps=0.3, eps_iter=0.06, nb_iter=10, y=None,\n",
    "                     ord=np.inf, decay_factor=1.0,\n",
    "                     clip_min=None, clip_max=None,\n",
    "                     y_target=None, **kwargs):\n",
    "        \"\"\"\n",
    "        Take in a dictionary of parameters and applies attack-specific checks\n",
    "        before saving them as attributes.\n",
    "        Attack-specific parameters:\n",
    "        :param eps: (required float) maximum distortion of adversarial example\n",
    "                    compared to original input\n",
    "        :param eps_iter: (required float) step size for each attack iteration\n",
    "        :param nb_iter: (required int) Number of attack iterations.\n",
    "        :param y: (optional) A tensor with the model labels.\n",
    "        :param y_target: (optional) A tensor with the labels to target. Leave\n",
    "                         y_target=None if y is also set. Labels should be\n",
    "                         one-hot-encoded.\n",
    "        :param ord: (optional) Order of the norm (mimics Numpy).\n",
    "                    Possible values: np.inf, 1 or 2.\n",
    "        :param decay_factor: (optional) Decay factor for the momentum term.\n",
    "        :param clip_min: (optional float) Minimum input component value\n",
    "        :param clip_max: (optional float) Maximum input component value\n",
    "        \"\"\"\n",
    "\n",
    "        # Save attack-specific parameters\n",
    "        self.eps = eps\n",
    "        self.eps_iter = eps_iter\n",
    "        self.nb_iter = nb_iter\n",
    "        self.y = y\n",
    "        self.y_target = y_target\n",
    "        self.ord = ord\n",
    "        self.decay_factor = decay_factor\n",
    "        self.clip_min = clip_min\n",
    "        self.clip_max = clip_max\n",
    "\n",
    "        if self.y is not None and self.y_target is not None:\n",
    "            raise ValueError(\"Must not set both y and y_target\")\n",
    "        # Check if order of the norm is acceptable given current implementation\n",
    "        if self.ord not in [np.inf, 1, 2]:\n",
    "            raise ValueError(\"Norm order must be either np.inf, 1, or 2.\")\n",
    "\n",
    "        return True"
   ]
  },
  {
   "cell_type": "code",
   "execution_count": 11,
   "metadata": {
    "ExecuteTime": {
     "end_time": "2018-03-29T01:19:42.152507Z",
     "start_time": "2018-03-29T01:19:36.619440Z"
    },
    "scrolled": true
   },
   "outputs": [
    {
     "name": "stderr",
     "output_type": "stream",
     "text": [
      "[INFO 2018-03-28 18:19:36,644 cleverhans] Constructing new graph for attack MomentumIterativeMethod\n"
     ]
    },
    {
     "name": "stdout",
     "output_type": "stream",
     "text": [
      "WARNING:tensorflow:From /Users/kirillparamonov/adv_project/src/cleverhans/cleverhans/utils_tf.py:37: softmax_cross_entropy_with_logits (from tensorflow.python.ops.nn_ops) is deprecated and will be removed in a future version.\n",
      "Instructions for updating:\n",
      "\n",
      "Future major versions of TensorFlow will allow gradients to flow\n",
      "into the labels input on backprop by default.\n",
      "\n",
      "See tf.nn.softmax_cross_entropy_with_logits_v2.\n",
      "\n"
     ]
    }
   ],
   "source": [
    "# Form a 10 x 10 array of the inputs that you seek to target:\n",
    "adv_inputs = np.array([[instance] * nb_classes for instance in X_test[idxs]],dtype=np.float32)\n",
    "adv_inputs = adv_inputs.reshape((source_samples * nb_classes, img_rows, img_cols, 1))\n",
    "\n",
    "one_hot = np.zeros((nb_classes, nb_classes))\n",
    "one_hot[np.arange(nb_classes), np.arange(nb_classes)] = 1\n",
    "\n",
    "adv_ys = np.array([one_hot] * source_samples,dtype=np.float32).reshape((source_samples * nb_classes, nb_classes))\n",
    "\n",
    "# Instantiate a CW attack object\n",
    "# Model passed into MomentumIterativeMethod must be of type Model (as defined) so we pass our keras model to the KerasModelWrapper\n",
    "model_wrap=KerasModelWrapper(model)\n",
    "\n",
    "#(Kirill) Generate adversarial examples with MomentumIterativeMethod\n",
    "mi_params = {'eps': 0.2,\n",
    "             'eps_iter': 0.05,\n",
    "             'nb_iter': 20,\n",
    "             'ord': np.inf,\n",
    "             'decay_factor': 1,\n",
    "             'clip_min': 0,\n",
    "             'clip_max': 1,\n",
    "             'y_target': adv_ys\n",
    "            }\n",
    "mi = MomentumIterativeMethod(model_wrap, sess=sess)\n",
    "adv = mi.generate_np(adv_inputs, **mi_params)"
   ]
  },
  {
   "cell_type": "code",
   "execution_count": 12,
   "metadata": {
    "ExecuteTime": {
     "end_time": "2018-03-29T01:21:35.616560Z",
     "start_time": "2018-03-29T01:21:34.539209Z"
    }
   },
   "outputs": [
    {
     "data": {
      "image/png": "[encoded data removed]",
      "text/plain": [
       "<Figure size 1080x1080 with 20 Axes>"
      ]
     },
     "metadata": {},
     "output_type": "display_data"
    }
   ],
   "source": [
    "plt.figure(figsize=(15,15))\n",
    "for i in range(2):\n",
    "    for j in range(10):\n",
    "        plt.subplot(10,10,i*10+j+1)\n",
    "        plt.imshow(adv[i*10+j,:,:,0],cmap='gray')\n",
    "        plt.axis('off')"
   ]
  },
  {
   "cell_type": "code",
   "execution_count": 13,
   "metadata": {
    "ExecuteTime": {
     "end_time": "2018-03-29T01:21:38.958596Z",
     "start_time": "2018-03-29T01:21:38.759517Z"
    }
   },
   "outputs": [
    {
     "data": {
      "text/plain": [
       "array([0, 1, 2, 3, 4, 5, 6, 7, 0, 9, 0, 1, 2, 3, 4, 5, 6, 7, 8, 9, 0, 1,\n",
       "       2, 3, 2, 5, 6, 2, 8, 2, 0, 1, 2, 3, 4, 5, 6, 7, 8, 9, 0, 1, 2, 3,\n",
       "       4, 5, 6, 7, 8, 9, 0, 1, 2, 3, 4, 5, 6, 7, 8, 9, 0, 1, 2, 3, 4, 5,\n",
       "       6, 7, 8, 9, 0, 1, 2, 3, 4, 5, 7, 7, 8, 9, 0, 1, 2, 3, 4, 5, 6, 7,\n",
       "       8, 9, 0, 1, 2, 3, 4, 5, 6, 7, 8, 9])"
      ]
     },
     "execution_count": 13,
     "metadata": {},
     "output_type": "execute_result"
    }
   ],
   "source": [
    "model.predict_classes(adv)"
   ]
  },
  {
   "cell_type": "code",
   "execution_count": 14,
   "metadata": {
    "ExecuteTime": {
     "end_time": "2018-03-29T01:21:40.343671Z",
     "start_time": "2018-03-29T01:21:40.263395Z"
    }
   },
   "outputs": [
    {
     "data": {
      "text/plain": [
       "15"
      ]
     },
     "execution_count": 14,
     "metadata": {},
     "output_type": "execute_result"
    }
   ],
   "source": [
    "(model.predict_classes(adv)==model.predict_classes(adv_inputs)).sum()"
   ]
  },
  {
   "cell_type": "code",
   "execution_count": 15,
   "metadata": {
    "ExecuteTime": {
     "end_time": "2018-03-29T01:21:42.539031Z",
     "start_time": "2018-03-29T01:21:42.532016Z"
    },
    "collapsed": true
   },
   "outputs": [],
   "source": [
    "np.save('adv_cw_targeted49_model9868.npy',adv)"
   ]
  },
  {
   "cell_type": "markdown",
   "metadata": {},
   "source": [
    "# F-MNIST transfer learning here:"
   ]
  },
  {
   "cell_type": "code",
   "execution_count": 16,
   "metadata": {
    "ExecuteTime": {
     "end_time": "2018-03-29T01:21:44.895742Z",
     "start_time": "2018-03-29T01:21:44.885035Z"
    }
   },
   "outputs": [
    {
     "name": "stdout",
     "output_type": "stream",
     "text": [
      "_________________________________________________________________\n",
      "Layer (type)                 Output Shape              Param #   \n",
      "=================================================================\n",
      "conv2d_1 (Conv2D)            (None, 14, 14, 64)        4160      \n",
      "_________________________________________________________________\n",
      "activation_1 (Activation)    (None, 14, 14, 64)        0         \n",
      "_________________________________________________________________\n",
      "conv2d_2 (Conv2D)            (None, 5, 5, 128)         295040    \n",
      "_________________________________________________________________\n",
      "activation_2 (Activation)    (None, 5, 5, 128)         0         \n",
      "_________________________________________________________________\n",
      "conv2d_3 (Conv2D)            (None, 1, 1, 128)         409728    \n",
      "_________________________________________________________________\n",
      "activation_3 (Activation)    (None, 1, 1, 128)         0         \n",
      "_________________________________________________________________\n",
      "flatten_1 (Flatten)          (None, 128)               0         \n",
      "_________________________________________________________________\n",
      "dense_1 (Dense)              (None, 10)                1290      \n",
      "_________________________________________________________________\n",
      "activation_4 (Activation)    (None, 10)                0         \n",
      "=================================================================\n",
      "Total params: 710,218\n",
      "Trainable params: 710,218\n",
      "Non-trainable params: 0\n",
      "_________________________________________________________________\n"
     ]
    }
   ],
   "source": [
    "model.summary()"
   ]
  },
  {
   "cell_type": "markdown",
   "metadata": {},
   "source": [
    "#  Fashion-MNIST dataset:\n",
    "\n",
    "## Label\tDescription :\n",
    " - 0:\tT-shirt/top\n",
    " - 1\tTrouser\n",
    " - 2\tPullover\n",
    " - 3\tDress\n",
    " - 4\tCoat\n",
    " - 5\ttrouser\n",
    " - 6\tShirt\n",
    " - 7\ttshirt\n",
    " - 8\tBag\n",
    " - 9\tAnkle boot\n",
    " \n",
    " \n",
    " Source: github.com/zalandoresearch/fashion-mnist"
   ]
  },
  {
   "cell_type": "code",
   "execution_count": 17,
   "metadata": {
    "ExecuteTime": {
     "end_time": "2018-03-29T01:21:50.175266Z",
     "start_time": "2018-03-29T01:21:49.450489Z"
    }
   },
   "outputs": [
    {
     "name": "stdout",
     "output_type": "stream",
     "text": [
      "2\n"
     ]
    },
    {
     "data": {
      "image/png": "[encoded data removed]",
      "text/plain": [
       "<Figure size 432x288 with 1 Axes>"
      ]
     },
     "metadata": {},
     "output_type": "display_data"
    }
   ],
   "source": [
    "import sys\n",
    "\n",
    "sys.path.append(os.path.join(os.getcwd(),'fashion_mnist'))\n",
    "from utils import mnist_reader\n",
    "#(Vishal) changed test to train\n",
    "X_train_vec, y_train_vec = mnist_reader.load_mnist('data/fashion', kind='train')\n",
    "X_test_vec, y_test_vec = mnist_reader.load_mnist('data/fashion', kind='t10k')\n",
    "#(Vishal) changed test to train\n",
    "X_train_vec = X_train_vec.astype('float32')\n",
    "X_test_vec = X_test_vec.astype('float32')\n",
    "#(Vishal) changed test to train\n",
    "X_train_vec /= 255\n",
    "X_test_vec /= 255\n",
    "from keras.utils import np_utils\n",
    "#(Vishal) changed test to train\n",
    "X_train_f=X_train_vec.reshape(60000,28,28,1)\n",
    "X_test_f=X_test_vec.reshape(10000,28,28,1)\n",
    "#(Vishal) changed test to train\n",
    "Y_train_f=np_utils.to_categorical(y_train_vec, num_classes=10)\n",
    "Y_test_f=np_utils.to_categorical(y_test_vec, num_classes=10)\n",
    "#Let's display a tshirt:\n",
    "\n",
    "%matplotlib inline\n",
    "plt.imshow(X_test_f[243,:,:,0],cmap='gray')\n",
    "print(np.argmax(Y_test_f[243]))\n",
    "nb_classes=10"
   ]
  },
  {
   "cell_type": "code",
   "execution_count": 18,
   "metadata": {
    "ExecuteTime": {
     "end_time": "2018-03-29T01:21:51.522722Z",
     "start_time": "2018-03-29T01:21:51.500538Z"
    },
    "collapsed": true
   },
   "outputs": [],
   "source": [
    "ind_tshirt=np.where(y_test_vec==0)[0][0:600]\n",
    "ind_trouser=np.where(y_test_vec==1)[0][0:600]\n",
    "\n",
    "X_tshirt=X_test_f[ind_tshirt]\n",
    "X_trouser=X_test_f[ind_trouser]\n",
    "#(Vishal) changed test to train\n",
    "X_tshirt_train=X_tshirt[0:500]\n",
    "#(Vishal) changed test to train\n",
    "X_trouser_train=X_trouser[0:500]\n",
    "X_tshirt_test=X_tshirt[500:]\n",
    "X_trouser_test=X_trouser[500:]\n",
    "#(Vishal) changed test to train\n",
    "X_tt_train=np.vstack([X_trouser_train,X_tshirt_train])\n",
    "X_tt_test=np.vstack([X_trouser_test,X_tshirt_test])"
   ]
  },
  {
   "cell_type": "markdown",
   "metadata": {},
   "source": [
    "# Generate un-targeted adversarial examples for the 2-class FMNIST problem:"
   ]
  },
  {
   "cell_type": "code",
   "execution_count": 19,
   "metadata": {
    "ExecuteTime": {
     "end_time": "2018-03-29T01:21:52.991640Z",
     "start_time": "2018-03-29T01:21:52.986999Z"
    },
    "collapsed": true
   },
   "outputs": [],
   "source": [
    "mi_params = {'eps': 0.25,\n",
    "             'eps_iter': 0.05,\n",
    "             'nb_iter': 20,\n",
    "             'ord': np.inf,\n",
    "             'decay_factor': 1,\n",
    "             'clip_min': 0,\n",
    "             'clip_max': 1,\n",
    "             'y_target': None\n",
    "            }"
   ]
  },
  {
   "cell_type": "code",
   "execution_count": 20,
   "metadata": {
    "ExecuteTime": {
     "end_time": "2018-03-29T01:22:20.547386Z",
     "start_time": "2018-03-29T01:21:54.372089Z"
    }
   },
   "outputs": [
    {
     "name": "stderr",
     "output_type": "stream",
     "text": [
      "[INFO 2018-03-28 18:21:54,373 cleverhans] Constructing new graph for attack MomentumIterativeMethod\n"
     ]
    },
    {
     "name": "stdout",
     "output_type": "stream",
     "text": [
      "WARNING:tensorflow:From /Users/kirillparamonov/adv_project/src/cleverhans/cleverhans/attacks.py:208: calling reduce_max (from tensorflow.python.ops.math_ops) with keep_dims is deprecated and will be removed in a future version.\n",
      "Instructions for updating:\n",
      "keep_dims is deprecated, use keepdims instead\n"
     ]
    }
   ],
   "source": [
    "#(Kirill) Generate adversarial examples with MomentumIterativeMethod\n",
    "mi = MomentumIterativeMethod(model_wrap, back='tf', sess=sess)\n",
    "X_tt_train_adv = mi.generate_np(X_tt_train, **mi_params)"
   ]
  },
  {
   "cell_type": "code",
   "execution_count": 21,
   "metadata": {
    "ExecuteTime": {
     "end_time": "2018-03-29T01:22:30.234587Z",
     "start_time": "2018-03-29T01:22:20.551415Z"
    },
    "scrolled": false
   },
   "outputs": [
    {
     "name": "stderr",
     "output_type": "stream",
     "text": [
      "[INFO 2018-03-28 18:22:20,555 cleverhans] Constructing new graph for attack MomentumIterativeMethod\n"
     ]
    }
   ],
   "source": [
    "#(Kirill) Generate adversarial examples with MomentumIterativeMethod\n",
    "mi = MomentumIterativeMethod(model_wrap, back='tf', sess=sess)\n",
    "X_tt_test_adv = mi.generate_np(X_tt_test, **mi_params)"
   ]
  },
  {
   "cell_type": "code",
   "execution_count": 22,
   "metadata": {
    "ExecuteTime": {
     "end_time": "2018-03-29T01:22:59.006719Z",
     "start_time": "2018-03-29T01:22:58.645718Z"
    }
   },
   "outputs": [
    {
     "data": {
      "image/png": "[encoded data removed]",
      "text/plain": [
       "<Figure size 432x288 with 4 Axes>"
      ]
     },
     "metadata": {},
     "output_type": "display_data"
    }
   ],
   "source": [
    "plt.subplot(2,2,1)\n",
    "plt.imshow(X_tt_test[43,:,:,0],cmap='gray')\n",
    "plt.axis('off')\n",
    "plt.subplot(2,2,2)\n",
    "plt.imshow(X_tt_test_adv[43,:,:,0],cmap='gray')\n",
    "plt.axis('off')\n",
    "\n",
    "plt.subplot(2,2,3)\n",
    "plt.imshow(X_tt_test[143,:,:,0],cmap='gray')\n",
    "plt.axis('off')\n",
    "plt.subplot(2,2,4)\n",
    "plt.imshow(X_tt_test_adv[143,:,:,0],cmap='gray')\n",
    "plt.axis('off')\n",
    "plt.suptitle('Visualization of adversarial examples: \\n(Left)Legit, (Right)Adversarial')\n",
    "plt.tight_layout(rect=[0, 0.03, 1, 0.95])"
   ]
  },
  {
   "cell_type": "code",
   "execution_count": 23,
   "metadata": {
    "ExecuteTime": {
     "end_time": "2018-03-29T01:23:01.304969Z",
     "start_time": "2018-03-29T01:23:01.109741Z"
    }
   },
   "outputs": [
    {
     "data": {
      "text/plain": [
       "0"
      ]
     },
     "execution_count": 23,
     "metadata": {},
     "output_type": "execute_result"
    }
   ],
   "source": [
    "(model.predict_classes(X_tt_test)==model.predict_classes(X_tt_test_adv)).sum()"
   ]
  },
  {
   "cell_type": "code",
   "execution_count": 24,
   "metadata": {
    "ExecuteTime": {
     "end_time": "2018-03-29T01:23:04.134285Z",
     "start_time": "2018-03-29T01:23:03.018317Z"
    },
    "collapsed": true
   },
   "outputs": [],
   "source": [
    "get_3rd_layer_output = K.function([model.layers[0].input, K.learning_phase()],\n",
    "                                  [model.layers[6].output])\n",
    "\n",
    "X_tt_test_feat=get_3rd_layer_output([X_tt_test, 0])[0]\n",
    "X_tt_train_feat=get_3rd_layer_output([X_tt_train, 0])[0]\n",
    "\n",
    "X_tt_train_feat_adv=get_3rd_layer_output([X_tt_train_adv, 0])[0]\n",
    "X_tt_test_feat_adv=get_3rd_layer_output([X_tt_test_adv, 0])[0]\n",
    "\n",
    "y_tt_test=np.zeros(200)\n",
    "y_tt_test[100:]=1\n",
    "\n",
    "y_tt_train=np.zeros(1000)\n",
    "y_tt_train[500:]=1"
   ]
  },
  {
   "cell_type": "code",
   "execution_count": 25,
   "metadata": {
    "ExecuteTime": {
     "end_time": "2018-03-29T01:23:05.430985Z",
     "start_time": "2018-03-29T01:23:05.421610Z"
    }
   },
   "outputs": [
    {
     "data": {
      "text/plain": [
       "array([0.5503826 , 0.        , 0.13611422, 0.42266604, 0.        ,\n",
       "       1.0148538 , 0.5526203 , 1.0164927 , 1.3722296 , 0.13073052,\n",
       "       0.6968076 , 0.88188493, 0.11200359, 0.6738504 , 1.001497  ,\n",
       "       0.22576524, 0.7339825 , 0.4179108 , 0.35899723, 0.44777897,\n",
       "       0.06866062, 0.26955017, 0.3413568 , 0.        , 0.6425289 ,\n",
       "       0.4386805 , 0.        , 0.46918678, 0.00923382, 0.3209905 ,\n",
       "       0.6301681 , 0.7641543 , 0.        , 0.38282633, 0.5324605 ,\n",
       "       0.8274627 , 0.27822343, 0.        , 0.8997735 , 1.0458293 ,\n",
       "       0.        , 0.        , 0.29673737, 0.5990784 , 0.3504678 ,\n",
       "       1.064376  , 0.6318039 , 0.        , 0.32631373, 0.6818948 ,\n",
       "       1.7584597 , 1.4237841 , 0.        , 0.        , 0.        ,\n",
       "       0.        , 0.31165895, 0.22844811, 0.34390315, 0.9910431 ,\n",
       "       1.0210991 , 0.27690947, 0.49062014, 1.2808709 , 0.6305193 ,\n",
       "       0.6035753 , 0.74643505, 0.        , 0.6980756 , 0.        ,\n",
       "       0.24085857, 0.4860042 , 0.15338975, 0.        , 0.5738404 ,\n",
       "       0.        , 0.47562665, 0.4907075 , 1.1671969 , 0.9143235 ,\n",
       "       0.9349936 , 0.51107216, 0.        , 0.48977336, 0.283146  ,\n",
       "       0.56528366, 0.50137997, 0.        , 0.        , 0.6305078 ,\n",
       "       0.9112503 , 0.0336504 , 0.9440209 , 0.12754054, 1.2058686 ,\n",
       "       1.1185954 , 0.81634545, 0.10574181, 0.68087184, 0.9323143 ,\n",
       "       0.10434636, 0.        , 1.17539   , 0.        , 0.04512753,\n",
       "       0.33695525, 1.0801183 , 0.        , 0.        , 0.56145066,\n",
       "       0.        , 0.        , 0.19038819, 0.        , 0.        ,\n",
       "       0.        , 0.11510251, 0.54575914, 0.        , 1.2413104 ,\n",
       "       0.83155537, 0.        , 0.        , 0.2980451 , 0.6600499 ,\n",
       "       0.        , 0.        , 0.10842641, 0.08673316, 0.        ,\n",
       "       0.4835227 , 0.        , 0.        , 0.        , 0.        ,\n",
       "       0.15866289, 0.6666957 , 0.04986347, 0.        , 0.97219175,\n",
       "       0.383893  , 0.        , 1.5741495 , 0.1579371 , 0.06821785,\n",
       "       1.3204911 , 0.        , 0.06040892, 0.        , 0.22661938,\n",
       "       0.        , 1.1838187 , 0.        , 0.        , 0.        ,\n",
       "       0.        , 0.        , 0.        , 0.        , 0.        ,\n",
       "       0.        , 0.        , 0.        , 0.        , 0.        ,\n",
       "       0.        , 0.        , 0.        , 0.51045483, 0.        ,\n",
       "       0.1530114 , 1.0481228 , 0.18702866, 0.97016937, 0.28780028,\n",
       "       0.17302229, 0.08978187, 0.        , 0.        , 0.        ,\n",
       "       0.        , 0.        , 0.70164543, 0.899699  , 0.5666405 ,\n",
       "       0.        , 1.0453228 , 0.20218171, 0.63921285, 0.20257603,\n",
       "       1.0109775 , 0.        , 0.6134535 , 1.19897   , 2.487704  ,\n",
       "       0.        , 0.        , 0.        , 0.        , 0.5026608 ],\n",
       "      dtype=float32)"
      ]
     },
     "execution_count": 25,
     "metadata": {},
     "output_type": "execute_result"
    }
   ],
   "source": [
    "X_tt_test_feat[:,0]"
   ]
  },
  {
   "cell_type": "code",
   "execution_count": 26,
   "metadata": {
    "ExecuteTime": {
     "end_time": "2018-03-29T01:23:13.651433Z",
     "start_time": "2018-03-29T01:23:07.301773Z"
    }
   },
   "outputs": [
    {
     "data": {
      "image/png": "[encoded data removed]",
      "text/plain": [
       "<Figure size 720x360 with 2 Axes>"
      ]
     },
     "metadata": {},
     "output_type": "display_data"
    }
   ],
   "source": [
    "from sklearn.manifold import TSNE\n",
    "\n",
    "X_tt_embedded_test = TSNE(n_components=2,perplexity=25).fit_transform(X_tt_test_feat)\n",
    "\n",
    "plt.figure(figsize=(10,5))\n",
    "plt.subplot(121)\n",
    "plt.scatter(X_tt_embedded_test[:,0],X_tt_embedded_test[:,1],c=y_tt_test)\n",
    "\n",
    "X_tt_embedded_test_adv = TSNE(n_components=2,perplexity=25).fit_transform(X_tt_test_feat_adv)\n",
    "plt.subplot(122)\n",
    "plt.scatter(X_tt_embedded_test_adv[:,0],X_tt_embedded_test_adv[:,1],c=y_tt_test)\n",
    "\n",
    "plt.suptitle('2D t-SNE plot of the 128-D deep features (Test) | (Left)Legit, (Right)Adversarial')\n",
    "plt.tight_layout(rect=[0, 0.03, 1, 0.95])"
   ]
  },
  {
   "cell_type": "code",
   "execution_count": 27,
   "metadata": {
    "ExecuteTime": {
     "end_time": "2018-03-29T01:23:14.940903Z",
     "start_time": "2018-03-29T01:23:14.852951Z"
    }
   },
   "outputs": [
    {
     "name": "stdout",
     "output_type": "stream",
     "text": [
      "Confusion matrix for rbf kernel without adversary\n",
      "[[ 91   9]\n",
      " [  0 100]]\n",
      "Confusion matrix for linear kernel without adversary\n",
      "[[99  1]\n",
      " [ 3 97]]\n"
     ]
    }
   ],
   "source": [
    "from sklearn.svm import SVC\n",
    "from sklearn.metrics import confusion_matrix\n",
    "clf = SVC( kernel='rbf')\n",
    "#(Vishal) changed test to train\n",
    "clf.fit(X_tt_train_feat, y_tt_train) \n",
    "y_pred_svc=clf.predict(X_tt_test_feat)\n",
    "print(\"Confusion matrix for rbf kernel without adversary\")\n",
    "print(confusion_matrix(y_tt_test, y_pred_svc))\n",
    "\n",
    "clf = SVC( kernel='linear')\n",
    "#(Vishal) changed test to train\n",
    "clf.fit(X_tt_train_feat, y_tt_train) \n",
    "y_pred_svc=clf.predict(X_tt_test_feat)\n",
    "print(\"Confusion matrix for linear kernel without adversary\")\n",
    "print(confusion_matrix(y_tt_test, y_pred_svc))"
   ]
  },
  {
   "cell_type": "code",
   "execution_count": 28,
   "metadata": {
    "ExecuteTime": {
     "end_time": "2018-03-29T01:23:17.141071Z",
     "start_time": "2018-03-29T01:23:16.952980Z"
    }
   },
   "outputs": [
    {
     "name": "stdout",
     "output_type": "stream",
     "text": [
      "Confusion matrix for rbf kernel with training adversary\n",
      "[[83 17]\n",
      " [ 1 99]]\n",
      "Confusion matrix for linear kernel with training adversary\n",
      "[[99  1]\n",
      " [88 12]]\n"
     ]
    }
   ],
   "source": [
    "from sklearn.svm import SVC\n",
    "from sklearn.metrics import confusion_matrix\n",
    "clf = SVC( kernel='rbf')\n",
    "#(Vishal) changed test to train\n",
    "clf.fit(X_tt_train_feat_adv, y_tt_train) \n",
    "y_pred_svc_adv=clf.predict(X_tt_test_feat)\n",
    "print(\"Confusion matrix for rbf kernel with training adversary\")\n",
    "print(confusion_matrix(y_tt_test, y_pred_svc_adv))\n",
    "\n",
    "clf = SVC( kernel='linear')\n",
    "#(Vishal) changed test to train\n",
    "clf.fit(X_tt_train_feat_adv, y_tt_train) \n",
    "y_pred_svc_adv=clf.predict(X_tt_test_feat)\n",
    "print(\"Confusion matrix for linear kernel with training adversary\")\n",
    "print(confusion_matrix(y_tt_test, y_pred_svc_adv))"
   ]
  },
  {
   "cell_type": "markdown",
   "metadata": {},
   "source": [
    "Adversarial examples based on the initial network for digit recognition doesn't necessarily do a job of confusing the trousers vs t-shirts classifier.\n",
    "\n",
    "For better defence, use rbf kernel for the SVM."
   ]
  },
  {
   "cell_type": "markdown",
   "metadata": {},
   "source": [
    "# Grey box into White Box\n",
    "We show that grey box setup can be transformed into white box given the known outputs of the classifier."
   ]
  },
  {
   "cell_type": "code",
   "execution_count": 29,
   "metadata": {
    "ExecuteTime": {
     "end_time": "2018-03-29T01:23:18.932859Z",
     "start_time": "2018-03-29T01:23:18.926186Z"
    },
    "collapsed": true
   },
   "outputs": [],
   "source": [
    "from sklearn.svm import SVC\n",
    "from sklearn.metrics import confusion_matrix\n",
    "clf = SVC( kernel='rbf')"
   ]
  },
  {
   "cell_type": "code",
   "execution_count": 92,
   "metadata": {
    "ExecuteTime": {
     "end_time": "2018-03-28T20:53:58.339662Z",
     "start_time": "2018-03-28T20:53:58.270515Z"
    },
    "collapsed": true
   },
   "outputs": [],
   "source": [
    "#(Kirill) Train black-box SVM classifier\n",
    "clf.fit(X_tt_train_feat, y_tt_train) \n",
    "\n",
    "y_train_pred_svc = clf.predict(X_tt_train_feat)\n",
    "y_train_pred_svc = np_utils.to_categorical(y_train_pred_svc, num_classes=2)\n",
    "\n",
    "y_test_pred_svc = clf.predict(X_tt_test_feat)\n",
    "y_test_pred_svc = np_utils.to_categorical(y_test_pred_svc, num_classes=2)"
   ]
  },
  {
   "cell_type": "code",
   "execution_count": 93,
   "metadata": {
    "ExecuteTime": {
     "end_time": "2018-03-28T20:53:59.231441Z",
     "start_time": "2018-03-28T20:53:59.226914Z"
    },
    "collapsed": true
   },
   "outputs": [],
   "source": [
    "from keras.models import Sequential\n",
    "from keras.layers import Dense, Activation, Flatten"
   ]
  },
  {
   "cell_type": "code",
   "execution_count": 94,
   "metadata": {
    "ExecuteTime": {
     "end_time": "2018-03-28T20:54:03.755965Z",
     "start_time": "2018-03-28T20:54:00.133082Z"
    }
   },
   "outputs": [
    {
     "name": "stdout",
     "output_type": "stream",
     "text": [
      "Train on 1000 samples, validate on 200 samples\n",
      "Epoch 1/10\n",
      "1000/1000 [==============================] - 3s 3ms/step - loss: 0.3578 - acc: 0.9060 - val_loss: 0.3098 - val_acc: 0.8950\n",
      "Epoch 2/10\n",
      "1000/1000 [==============================] - 0s 55us/step - loss: 0.2372 - acc: 0.9470 - val_loss: 0.2427 - val_acc: 0.9150\n",
      "Epoch 3/10\n",
      "1000/1000 [==============================] - 0s 59us/step - loss: 0.1854 - acc: 0.9560 - val_loss: 0.2014 - val_acc: 0.9300\n",
      "Epoch 4/10\n",
      "1000/1000 [==============================] - 0s 62us/step - loss: 0.1535 - acc: 0.9660 - val_loss: 0.1734 - val_acc: 0.9400\n",
      "Epoch 5/10\n",
      "1000/1000 [==============================] - 0s 67us/step - loss: 0.1318 - acc: 0.9710 - val_loss: 0.1520 - val_acc: 0.9600\n",
      "Epoch 6/10\n",
      "1000/1000 [==============================] - 0s 70us/step - loss: 0.1157 - acc: 0.9750 - val_loss: 0.1347 - val_acc: 0.9650\n",
      "Epoch 7/10\n",
      "1000/1000 [==============================] - 0s 50us/step - loss: 0.1031 - acc: 0.9770 - val_loss: 0.1208 - val_acc: 0.9750\n",
      "Epoch 8/10\n",
      "1000/1000 [==============================] - 0s 56us/step - loss: 0.0934 - acc: 0.9830 - val_loss: 0.1107 - val_acc: 0.9750\n",
      "Epoch 9/10\n",
      "1000/1000 [==============================] - 0s 61us/step - loss: 0.0856 - acc: 0.9820 - val_loss: 0.1015 - val_acc: 0.9900\n",
      "Epoch 10/10\n",
      "1000/1000 [==============================] - 0s 50us/step - loss: 0.0797 - acc: 0.9840 - val_loss: 0.0944 - val_acc: 0.9850\n"
     ]
    },
    {
     "data": {
      "text/plain": [
       "<keras.callbacks.History at 0x1517447f0>"
      ]
     },
     "execution_count": 94,
     "metadata": {},
     "output_type": "execute_result"
    }
   ],
   "source": [
    "nb_feat = X_tt_train_feat.shape[1]\n",
    "\n",
    "#(Kirill) Build a model that works as adversarial substitution for the SVM classifier\n",
    "model_white = Sequential()\n",
    "model_white.add(Dense(2, input_shape=(nb_feat,), activation='softmax'))\n",
    "\n",
    "model_white.compile(loss=keras.losses.categorical_crossentropy,\n",
    "                    optimizer=keras.optimizers.Adadelta(),\n",
    "                    metrics=['accuracy'])\n",
    "\n",
    "#(Kirill) Train the model on black-box SVM outputs\n",
    "model_white.fit(X_tt_train_feat, y_train_pred_svc,\n",
    "                epochs=10,\n",
    "                validation_data=(X_tt_test_feat, y_test_pred_svc))\n"
   ]
  },
  {
   "cell_type": "code",
   "execution_count": 95,
   "metadata": {
    "ExecuteTime": {
     "end_time": "2018-03-28T20:54:09.824488Z",
     "start_time": "2018-03-28T20:54:09.790467Z"
    }
   },
   "outputs": [
    {
     "name": "stdout",
     "output_type": "stream",
     "text": [
      "_________________________________________________________________\n",
      "Layer (type)                 Output Shape              Param #   \n",
      "=================================================================\n",
      "conv2d_1 (Conv2D)            (None, 14, 14, 64)        4160      \n",
      "_________________________________________________________________\n",
      "activation_1 (Activation)    (None, 14, 14, 64)        0         \n",
      "_________________________________________________________________\n",
      "conv2d_2 (Conv2D)            (None, 5, 5, 128)         295040    \n",
      "_________________________________________________________________\n",
      "activation_2 (Activation)    (None, 5, 5, 128)         0         \n",
      "_________________________________________________________________\n",
      "conv2d_3 (Conv2D)            (None, 1, 1, 128)         409728    \n",
      "_________________________________________________________________\n",
      "activation_3 (Activation)    (None, 1, 1, 128)         0         \n",
      "_________________________________________________________________\n",
      "flatten_1 (Flatten)          (None, 128)               0         \n",
      "_________________________________________________________________\n",
      "dense_4 (Dense)              (None, 2)                 258       \n",
      "=================================================================\n",
      "Total params: 709,186\n",
      "Trainable params: 709,186\n",
      "Non-trainable params: 0\n",
      "_________________________________________________________________\n"
     ]
    }
   ],
   "source": [
    "#(Kirill) Build a new adversarial model that combines white-box CNN with the adversarial classifier\n",
    "model_adv = Sequential()\n",
    "\n",
    "model_feat_layers = model.layers[:-2]\n",
    "for layer in model_feat_layers:\n",
    "    model_adv.add(layer)\n",
    "for layer in model_white.layers:\n",
    "    model_adv.add(layer)\n",
    "    \n",
    "model_adv.summary()"
   ]
  },
  {
   "cell_type": "code",
   "execution_count": 96,
   "metadata": {
    "ExecuteTime": {
     "end_time": "2018-03-28T20:54:13.823453Z",
     "start_time": "2018-03-28T20:54:13.818694Z"
    },
    "collapsed": true
   },
   "outputs": [],
   "source": [
    "mi_params = {'eps': 0.1,\n",
    "             'eps_iter': 0.05,\n",
    "             'nb_iter': 20,\n",
    "             'ord': np.inf,\n",
    "             'decay_factor': 1,\n",
    "             'clip_min': 0,\n",
    "             'clip_max': 1,\n",
    "             'y_target': None\n",
    "            }"
   ]
  },
  {
   "cell_type": "code",
   "execution_count": 97,
   "metadata": {
    "ExecuteTime": {
     "end_time": "2018-03-28T20:54:38.401332Z",
     "start_time": "2018-03-28T20:54:15.111929Z"
    }
   },
   "outputs": [
    {
     "name": "stderr",
     "output_type": "stream",
     "text": [
      "[INFO 2018-03-28 13:54:15,116 cleverhans] Constructing new graph for attack MomentumIterativeMethod\n"
     ]
    }
   ],
   "source": [
    "#(Kirill) Get adversarial train inputs\n",
    "mi = MomentumIterativeMethod(model_adv, back='tf', sess=sess)\n",
    "X_tt_train_adv = mi.generate_np(X_tt_train, **mi_params)"
   ]
  },
  {
   "cell_type": "code",
   "execution_count": 98,
   "metadata": {
    "ExecuteTime": {
     "end_time": "2018-03-28T20:54:45.837263Z",
     "start_time": "2018-03-28T20:54:38.403003Z"
    }
   },
   "outputs": [
    {
     "name": "stderr",
     "output_type": "stream",
     "text": [
      "[INFO 2018-03-28 13:54:38,404 cleverhans] Constructing new graph for attack MomentumIterativeMethod\n"
     ]
    }
   ],
   "source": [
    "#(Kirill) Get adversarial test inputs\n",
    "mi = MomentumIterativeMethod(model_adv, back='tf', sess=sess)\n",
    "X_tt_test_adv = mi.generate_np(X_tt_test, **mi_params)"
   ]
  },
  {
   "cell_type": "code",
   "execution_count": 99,
   "metadata": {
    "ExecuteTime": {
     "end_time": "2018-03-28T20:54:54.630515Z",
     "start_time": "2018-03-28T20:54:54.270898Z"
    }
   },
   "outputs": [
    {
     "data": {
      "image/png": "[encoded data removed]",
      "text/plain": [
       "<Figure size 432x288 with 4 Axes>"
      ]
     },
     "metadata": {},
     "output_type": "display_data"
    }
   ],
   "source": [
    "plt.subplot(2,2,1)\n",
    "plt.imshow(X_tt_test[43,:,:,0],cmap='gray')\n",
    "plt.axis('off')\n",
    "plt.subplot(2,2,2)\n",
    "plt.imshow(X_tt_test_adv[43,:,:,0],cmap='gray')\n",
    "plt.axis('off')\n",
    "\n",
    "plt.subplot(2,2,3)\n",
    "plt.imshow(X_tt_test[143,:,:,0],cmap='gray')\n",
    "plt.axis('off')\n",
    "plt.subplot(2,2,4)\n",
    "plt.imshow(X_tt_test_adv[143,:,:,0],cmap='gray')\n",
    "plt.axis('off')\n",
    "plt.suptitle('Visualization of adversarial examples: \\n(Left)Legit, (Right)Adversarial')\n",
    "plt.tight_layout(rect=[0, 0.03, 1, 0.95])"
   ]
  },
  {
   "cell_type": "code",
   "execution_count": 100,
   "metadata": {
    "ExecuteTime": {
     "end_time": "2018-03-28T20:54:55.693061Z",
     "start_time": "2018-03-28T20:54:55.613162Z"
    }
   },
   "outputs": [
    {
     "name": "stdout",
     "output_type": "stream",
     "text": [
      "Confusion matrix for rbf kernel with testing adversary\n",
      "[[32 68]\n",
      " [55 45]]\n"
     ]
    }
   ],
   "source": [
    "#(Kirill) The adversary who knows training labels can produce faulty testing examples\n",
    "X_tt_test_feat_adv=get_3rd_layer_output([X_tt_test_adv, 0])[0]\n",
    "\n",
    "y_pred_svc_adv=clf.predict(X_tt_test_feat_adv)\n",
    "print(\"Confusion matrix for rbf kernel with testing adversary\")\n",
    "print(confusion_matrix(y_tt_test, y_pred_svc_adv))"
   ]
  },
  {
   "cell_type": "code",
   "execution_count": 102,
   "metadata": {
    "ExecuteTime": {
     "end_time": "2018-03-28T21:06:24.642814Z",
     "start_time": "2018-03-28T21:06:24.244151Z"
    }
   },
   "outputs": [
    {
     "name": "stdout",
     "output_type": "stream",
     "text": [
      "Confusion matrix for rbf kernel with training adversary\n",
      "[[65 35]\n",
      " [34 66]]\n"
     ]
    }
   ],
   "source": [
    "#(Kirill) The adversary can also interfere with a training process to misclassify real data\n",
    "X_tt_train_feat_adv=get_3rd_layer_output([X_tt_train_adv, 0])[0]\n",
    "\n",
    "clf = SVC( kernel='rbf')\n",
    "clf.fit(X_tt_train_feat_adv, y_tt_train) \n",
    "\n",
    "y_pred_svc=clf.predict(X_tt_test_feat)\n",
    "print(\"Confusion matrix for rbf kernel with training adversary\")\n",
    "print(confusion_matrix(y_tt_test, y_pred_svc))"
   ]
  }
 ],
 "metadata": {
  "kernelspec": {
   "display_name": "Python 3",
   "language": "python",
   "name": "python3"
  },
  "language_info": {
   "codemirror_mode": {
    "name": "ipython",
    "version": 3
   },
   "file_extension": ".py",
   "mimetype": "text/x-python",
   "name": "python",
   "nbconvert_exporter": "python",
   "pygments_lexer": "ipython3",
   "version": "3.6.4"
  }
 },
 "nbformat": 4,
 "nbformat_minor": 2
}
